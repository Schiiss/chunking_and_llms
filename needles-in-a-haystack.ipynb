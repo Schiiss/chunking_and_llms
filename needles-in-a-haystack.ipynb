{
 "cells": [
  {
   "cell_type": "markdown",
   "metadata": {},
   "source": [
    "# Needle(s) in a Haystack Test\n",
    "\n",
    "How many 'needles' can GPT4o extract from a large amount of context? For reference there are about 21,600 tokens in the Microsoft Build Document.\n",
    "\n",
    "Let's have GPT4o generate a structured table based on the announcments from Microsoft Build 2024 Book of News!"
   ]
  },
  {
   "cell_type": "markdown",
   "metadata": {},
   "source": [
    "## Import Libraries 🧑‍💻\n",
    "\n",
    "We are brining in a few libraries here, most of them are LangChain Libraries:\n",
    "\n",
    "1. AzureAIDocumentIntelligenceLoader again to load and convert the PDF to Markdown\n",
    "\n",
    "2. AzureChatOpenAI to send and receive API requests from GPT4o\n",
    "\n",
    "3. ChatPromptTemplate so we can build a prompt to ask GPT4o to structure data for us\n",
    "\n",
    "4. StrOutputParser to ensure the output from the LLM is in string format. This is important since we are going to leverage Pandas to query the data once it is generated\n",
    "\n",
    "5. Pandas so we can do some light filtering on the generated data"
   ]
  },
  {
   "cell_type": "code",
   "execution_count": 15,
   "metadata": {},
   "outputs": [],
   "source": [
    "from dotenv import load_dotenv\n",
    "load_dotenv() \n",
    "from langchain_community.document_loaders import AzureAIDocumentIntelligenceLoader\n",
    "import os\n",
    "from langchain_openai import AzureChatOpenAI\n",
    "from langchain_core.prompts import ChatPromptTemplate\n",
    "from langchain.schema import StrOutputParser\n",
    "import pandas as pd"
   ]
  },
  {
   "cell_type": "markdown",
   "metadata": {},
   "source": [
    "## Load Microsoft Build Document 📄\n",
    "\n",
    "Load the Book of News Doucument"
   ]
  },
  {
   "cell_type": "code",
   "execution_count": null,
   "metadata": {},
   "outputs": [],
   "source": [
    "loader = AzureAIDocumentIntelligenceLoader(file_path=\"C:\\\\Users\\\\conne\\\\development\\\\repos\\\\chunking_for_rag\\\\Book_Of_News.pdf\", \n",
    "                                           api_key=os.environ.get('DOCUMENT_INTELLIGENCE_KEY'), \n",
    "                                           api_endpoint=os.environ.get('DOCUMENT_INTELLIGENCE_ENDPOINT'))\n",
    "book_of_build = loader.load()"
   ]
  },
  {
   "cell_type": "markdown",
   "metadata": {},
   "source": [
    "## Bring in GPT4o 🤖\n",
    "\n",
    "Bring in GPT4o with the extra large context window of 96,000 words. This is the LLM we are going to feed 21,600 words of the Book of News document to."
   ]
  },
  {
   "cell_type": "code",
   "execution_count": 16,
   "metadata": {},
   "outputs": [],
   "source": [
    "llm = AzureChatOpenAI(\n",
    "    azure_deployment=\"gpt4o\",\n",
    "    temperature=0,\n",
    "    api_key=os.environ.get(\"AZURE_OPENAI_API_KEY\"),\n",
    "    azure_endpoint=os.environ.get(\"AZURE_OPENAI_ENDPOINT\"),\n",
    "    api_version=\"2024-02-01\"\n",
    ")"
   ]
  },
  {
   "cell_type": "markdown",
   "metadata": {},
   "source": [
    "## Make an LLM Call to Make Untructured Data Structured 📞\n",
    "\n",
    "Let's see how many 'needles' (ie:facts) GPT4o can extract from 21,600 words and effectivley structure it for us."
   ]
  },
  {
   "cell_type": "code",
   "execution_count": 17,
   "metadata": {},
   "outputs": [],
   "source": [
    "prompt = ChatPromptTemplate.from_template(\"\"\"\n",
    "You are an assistant that will summarize all of the Azure AI announcements in the below context. Make sure to put the data into the following table. Make sure to only respond with the table and nothing else.\n",
    "\n",
    "| Service      | Announcement |\n",
    "|--------------|--------------||\n",
    "|              |              |             \n",
    "\n",
    "Context:\n",
    "{docs_string}\n",
    "\"\"\")\n",
    "\n",
    "docs_string = \"\"\n",
    "for page in book_of_build:\n",
    "    docs_string += page.page_content\n",
    "\n",
    "chain = prompt | llm | StrOutputParser()\n",
    "table = chain.invoke({\"docs_string\": book_of_build})"
   ]
  },
  {
   "cell_type": "markdown",
   "metadata": {},
   "source": [
    "## Print LLM Generated Table 🤖\n",
    "\n",
    "Let's have a look at the table GPT4o generated for us and see how many needles it found."
   ]
  },
  {
   "cell_type": "code",
   "execution_count": 18,
   "metadata": {},
   "outputs": [
    {
     "name": "stdout",
     "output_type": "stream",
     "text": [
      "| Service      | Announcement |\n",
      "|--------------|--------------|\n",
      "| Azure AI Services | Announcing Azure Patterns and Practices for Private Chatbots |\n",
      "| Azure AI Services | Announcing Custom Generative Mode in Preview Soon |\n",
      "| Azure AI Services | Azure AI Search Features Search Relevance Updates and New Integrations |\n",
      "| Azure AI Services | Azure AI Studio Lets Developers Responsibly Build and Deploy Custom Copilots |\n",
      "| Azure AI Services | Azure OpenAI Service Features Key AI Advancements |\n",
      "| Azure AI Services | Khan Academy and Microsoft Announce Partnership |\n",
      "| Azure AI Services | Microsoft Adds Multimodal Phi-3 Model Phi-3-Vision |\n",
      "| Azure AI Services | Safeguard Copilots with New Azure AI Content Safety Capabilities |\n",
      "| Azure AI Services | Speech Analytics, Video Dubbing in Preview in Azure AI Speech |\n",
      "| Azure Data | Introducing Real-Time Intelligence in Microsoft Fabric |\n",
      "| Azure Data | New AI Capabilities in Azure Database for PostgreSQL |\n",
      "| Azure Data | New Capabilities and Updates in Microsoft Fabric |\n",
      "| Azure Data | New Capabilities in Azure Cosmos DB |\n",
      "| Azure Data | Snowflake Apache Iceberg Shortcuts in Fabric |\n",
      "| Azure Infrastructure | Azure Compute Fleet Now in Preview |\n",
      "| Azure Infrastructure | Azure Migrate and Azure Container Storage Updates |\n",
      "| Azure Infrastructure | New Azure Virtual Machine Series Optimized for AI and Cloud-Native Workloads |\n",
      "| Developer Community | Microsoft for Startups Founders Hub Gains AI Capabilities |\n",
      "| Developer Community | New AI Features for Microsoft Learn Now Available |\n",
      "| Developer Tools & DevOps | .NET Updates for Developer Community |\n",
      "| Developer Tools & DevOps | AI Toolkit for Visual Studio Code Now in Preview |\n",
      "| Developer Tools & DevOps | Azure API Center and Generative AI Capabilities in Azure API Management Now Available |\n",
      "| Developer Tools & DevOps | Azure App Service Boosts Performance and Security for Web App Creation |\n",
      "| Developer Tools & DevOps | Azure Container Apps Launches Dynamic Sessions |\n",
      "| Developer Tools & DevOps | Azure Functions Launches Flex Consumption Plan, Extensions |\n",
      "| Developer Tools & DevOps | Azure Kubernetes Service Automatic Makes Kubernetes Adoption Easy |\n",
      "| Developer Tools & DevOps | Azure Service Bus Updates Now in Preview |\n",
      "| Developer Tools & DevOps | Azure Static Web Apps Features Dedicated Pricing Plan |\n",
      "| Developer Tools & DevOps | Dev Box Adds Ready-to-Code, Enterprise Management Features |\n",
      "| Developer Tools & DevOps | Expanding Extensibility Model to Pulumi in Azure Deployment Environments |\n",
      "| Developer Tools & DevOps | Introducing GitHub Copilot Extensions, Featuring GitHub Copilot for Azure |\n",
      "| Developer Tools & DevOps | New Azure Event Grid Capabilities Support IoT Solutions, Event Sources |\n",
      "| Developer Tools & DevOps | New Enhancements and Integrations in Azure Load Testing |\n",
      "| Developer Tools & DevOps | Spring Batch Support for Azure Spring Apps Enterprise in Preview |\n",
      "| Developer Tools & DevOps | Updates to Azure Logic Apps |\n",
      "| Developer Tools & DevOps | Visual Studio 17.10 Now Integrates GitHub Copilot |\n",
      "| Developer Tools & DevOps | Visual Studio Code for Education Now Generally Available |\n",
      "| Microsoft Copilot Capabilities in Azure | Microsoft Copilot in Azure Preview Open to All Customers |\n",
      "| Microsoft 365 | Create Copilots in SharePoint |\n",
      "| Microsoft 365 | Extend and Customize Microsoft Copilot with Copilot Extensions |\n",
      "| Microsoft 365 | Introducing Team Copilot, a Valuable New Member of the Team |\n",
      "| Power Platform | Copilot Studio Powering Next Wave of Copilot Experiences |\n",
      "| Power Platform | Power Automate Updates Feature AI and Process Automation |\n",
      "| Edge | Microsoft Edge for Business Boosts Defenses Against Data Leaks, Vulnerabilities |\n",
      "| Edge | Real-Time Video Translation in Microsoft Edge Coming Soon |\n",
      "| Modern Work | AI Extensibility for Mesh in Preview |\n",
      "| Modern Work | Fluid Framework 2.0 Now in Preview |\n",
      "| Modern Work | New AI-Powered Features and Enhanced Data Protection in Microsoft Teams Premium |\n",
      "| Modern Work | New Enhancements for Custom App Experiences Connected to Microsoft Teams |\n",
      "| Modern Work | New Features in Microsoft Teams and Loop Help Teams Collaborate More Effectively |\n",
      "| Modern Work | SharePoint Embedded Now Generally Available |\n",
      "| Power Platform | New Features in Microsoft Dataverse in Preview |\n",
      "| Power Platform | New Security Features in Power Pages Help Monitor, Protect Sites |\n",
      "| Power Platform | Power Apps Updates Help Developers Build Apps at Scale |\n",
      "| Windows | Improvements to the Developer Experience in Windows |\n",
      "| Windows | Introducing the Next Generation of Windows on ARM |\n",
      "| Windows | Wide Array of Windows Developer AI Updates |\n",
      "| Windows | Windows Security Additions and Updates |\n",
      "| Windows | WinUI 3, WPF Recommended Native UI Platforms for Developers |\n"
     ]
    }
   ],
   "source": [
    "print(table)"
   ]
  },
  {
   "cell_type": "markdown",
   "metadata": {},
   "source": [
    "## Minor Data Cleaning 🧼\n",
    "\n",
    "Let's get the LLM generated table into a format we can query in Pandas 🐼"
   ]
  },
  {
   "cell_type": "code",
   "execution_count": 19,
   "metadata": {},
   "outputs": [],
   "source": [
    "pd.set_option('display.max_colwidth', None)\n",
    "pd.set_option('display.width', 1000)\n",
    "\n",
    "rows = [row.strip().split('|') for row in table.strip().split('\\n')[2:]]\n",
    "data_list = [[value.strip() for value in row[1:-1]] for row in rows]\n",
    "df = pd.DataFrame(data_list, columns=[\"Service\", \"Announcement\"])"
   ]
  },
  {
   "cell_type": "markdown",
   "metadata": {},
   "source": [
    "## Query using Pandas 🐼\n",
    "\n",
    "Leverage Pandas to filter data that the LLM generated."
   ]
  },
  {
   "cell_type": "code",
   "execution_count": 20,
   "metadata": {},
   "outputs": [
    {
     "name": "stdout",
     "output_type": "stream",
     "text": [
      "             Service                                                                  Announcement\n",
      "0  Azure AI Services                  Announcing Azure Patterns and Practices for Private Chatbots\n",
      "1  Azure AI Services                             Announcing Custom Generative Mode in Preview Soon\n",
      "2  Azure AI Services        Azure AI Search Features Search Relevance Updates and New Integrations\n",
      "3  Azure AI Services  Azure AI Studio Lets Developers Responsibly Build and Deploy Custom Copilots\n",
      "4  Azure AI Services                             Azure OpenAI Service Features Key AI Advancements\n",
      "5  Azure AI Services                               Khan Academy and Microsoft Announce Partnership\n",
      "6  Azure AI Services                            Microsoft Adds Multimodal Phi-3 Model Phi-3-Vision\n",
      "7  Azure AI Services              Safeguard Copilots with New Azure AI Content Safety Capabilities\n",
      "8  Azure AI Services                 Speech Analytics, Video Dubbing in Preview in Azure AI Speech\n"
     ]
    }
   ],
   "source": [
    "azure_ai_df = df[df['Service'] == 'Azure AI Services']\n",
    "print(azure_ai_df)"
   ]
  },
  {
   "cell_type": "code",
   "execution_count": null,
   "metadata": {},
   "outputs": [],
   "source": []
  }
 ],
 "metadata": {
  "kernelspec": {
   "display_name": ".venv",
   "language": "python",
   "name": "python3"
  },
  "language_info": {
   "codemirror_mode": {
    "name": "ipython",
    "version": 3
   },
   "file_extension": ".py",
   "mimetype": "text/x-python",
   "name": "python",
   "nbconvert_exporter": "python",
   "pygments_lexer": "ipython3",
   "version": "3.11.9"
  }
 },
 "nbformat": 4,
 "nbformat_minor": 2
}
